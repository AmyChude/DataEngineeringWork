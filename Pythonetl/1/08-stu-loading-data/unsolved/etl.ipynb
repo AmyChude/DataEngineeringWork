{
 "cells": [
  {
   "cell_type": "code",
   "execution_count": 1,
   "metadata": {},
   "outputs": [],
   "source": [
    "import requests\n",
    "# get alpaca api keys using this guide: https://alpaca.markets/docs/market-data/getting-started/#creating-an-alpaca-account-and-finding-your-api-keys\n",
    "from secrets_config import api_key_id, api_secret_key \n",
    "import pandas as pd\n",
    "from datetime import datetime, timezone"
   ]
  },
  {
   "cell_type": "code",
   "execution_count": 2,
   "metadata": {},
   "outputs": [],
   "source": [
    "# docs: https://alpaca.markets/docs/api-references/market-data-api/stock-pricing-data/historical/\n",
    "\n",
    "\"\"\"\n",
    "request data with the following parameters: \n",
    "- stock: tesla \n",
    "- start date: 01/01/2020\n",
    "- end date: 02/01/2020\n",
    "\"\"\"\n",
    "stock_ticker = \"tsla\" # tlsa maps to tesla\n",
    "base_url = f\"https://data.alpaca.markets/v2/stocks/{stock_ticker}/trades\"\n",
    "start_time = datetime(2020, 1, 1, tzinfo=timezone.utc).isoformat()\n",
    "end_time = datetime(2020, 1, 2, tzinfo=timezone.utc).isoformat()\n",
    "\n",
    "\"\"\"\n",
    "to authenticate to the api, you will need to use the APCA-API-KEY-ID and APCA-API-SECRET-KEY fields. \n",
    "for example:\n",
    "    headers = {\n",
    "        \"APCA-API-KEY-ID\": \"<your_api_key_id>\",\n",
    "        \"APCA-API-SECRET-KEY\": \"<your_api_secret_key>\"\n",
    "    }   \n",
    "\n",
    "and in the request.get() method, you will have to use: \n",
    "    requests.get(url=url, params=params, headers=headers)\n",
    "\"\"\"\n",
    "\n",
    "response_data = []\n",
    "\n",
    "params = {\n",
    "    \"start\": start_time,\n",
    "    \"end\": end_time\n",
    "}\n",
    "\n",
    "# auth example: https://alpaca.markets/docs/api-references/trading-api/\n",
    "headers = {\n",
    "    \"APCA-API-KEY-ID\": api_key_id,\n",
    "    \"APCA-API-SECRET-KEY\": api_secret_key\n",
    "}\n",
    "response = requests.get(base_url, params=params, headers=headers)\n",
    "if response.json().get(\"trades\") is not None: \n",
    "    response_data.extend(response.json().get(\"trades\"))"
   ]
  },
  {
   "cell_type": "code",
   "execution_count": 3,
   "metadata": {},
   "outputs": [],
   "source": [
    "# read json data to a dataframe \n",
    "df_quotes = pd.json_normalize(data=response_data, meta=[\"symbol\"])\n",
    "# rename columns to more meaningful names\n",
    "df_quotes_renamed = df_quotes.rename(columns={\n",
    "    \"i\": \"id\",\n",
    "    \"t\": \"timestamp\",\n",
    "    \"x\": \"exchange\",\n",
    "    \"p\": \"price\",\n",
    "    \"s\": \"size\",\n",
    "})"
   ]
  },
  {
   "cell_type": "code",
   "execution_count": 4,
   "metadata": {},
   "outputs": [],
   "source": [
    "# keep only 'id', 'timestamp', 'exchange', 'price', 'size' columns \n",
    "df_quotes_selected = df_quotes_renamed[['id', 'timestamp', 'exchange', 'price', 'size']]"
   ]
  },
  {
   "cell_type": "code",
   "execution_count": 5,
   "metadata": {},
   "outputs": [],
   "source": [
    "df_exchange_codes = pd.read_csv(\"data/exchange_codes.csv\")"
   ]
  },
  {
   "cell_type": "code",
   "execution_count": 6,
   "metadata": {},
   "outputs": [
    {
     "data": {
      "text/html": [
       "<div>\n",
       "<style scoped>\n",
       "    .dataframe tbody tr th:only-of-type {\n",
       "        vertical-align: middle;\n",
       "    }\n",
       "\n",
       "    .dataframe tbody tr th {\n",
       "        vertical-align: top;\n",
       "    }\n",
       "\n",
       "    .dataframe thead th {\n",
       "        text-align: right;\n",
       "    }\n",
       "</style>\n",
       "<table border=\"1\" class=\"dataframe\">\n",
       "  <thead>\n",
       "    <tr style=\"text-align: right;\">\n",
       "      <th></th>\n",
       "      <th>id</th>\n",
       "      <th>timestamp</th>\n",
       "      <th>price</th>\n",
       "      <th>size</th>\n",
       "      <th>exchange</th>\n",
       "    </tr>\n",
       "  </thead>\n",
       "  <tbody>\n",
       "    <tr>\n",
       "      <th>0</th>\n",
       "      <td>9905</td>\n",
       "      <td>2020-01-01T00:00:20.4997Z</td>\n",
       "      <td>418.93</td>\n",
       "      <td>60</td>\n",
       "      <td>Cboe EDGX</td>\n",
       "    </tr>\n",
       "    <tr>\n",
       "      <th>1</th>\n",
       "      <td>9906</td>\n",
       "      <td>2020-01-01T00:00:38.5731Z</td>\n",
       "      <td>418.70</td>\n",
       "      <td>10</td>\n",
       "      <td>Cboe EDGX</td>\n",
       "    </tr>\n",
       "    <tr>\n",
       "      <th>2</th>\n",
       "      <td>9907</td>\n",
       "      <td>2020-01-01T00:09:35.5596Z</td>\n",
       "      <td>418.75</td>\n",
       "      <td>20</td>\n",
       "      <td>Cboe EDGX</td>\n",
       "    </tr>\n",
       "    <tr>\n",
       "      <th>3</th>\n",
       "      <td>9908</td>\n",
       "      <td>2020-01-01T00:10:13.0418Z</td>\n",
       "      <td>418.75</td>\n",
       "      <td>115</td>\n",
       "      <td>Cboe EDGX</td>\n",
       "    </tr>\n",
       "    <tr>\n",
       "      <th>4</th>\n",
       "      <td>9909</td>\n",
       "      <td>2020-01-01T00:10:28.0684Z</td>\n",
       "      <td>418.75</td>\n",
       "      <td>200</td>\n",
       "      <td>Cboe EDGX</td>\n",
       "    </tr>\n",
       "  </tbody>\n",
       "</table>\n",
       "</div>"
      ],
      "text/plain": [
       "     id                  timestamp   price  size   exchange\n",
       "0  9905  2020-01-01T00:00:20.4997Z  418.93    60  Cboe EDGX\n",
       "1  9906  2020-01-01T00:00:38.5731Z  418.70    10  Cboe EDGX\n",
       "2  9907  2020-01-01T00:09:35.5596Z  418.75    20  Cboe EDGX\n",
       "3  9908  2020-01-01T00:10:13.0418Z  418.75   115  Cboe EDGX\n",
       "4  9909  2020-01-01T00:10:28.0684Z  418.75   200  Cboe EDGX"
      ]
     },
     "execution_count": 6,
     "metadata": {},
     "output_type": "execute_result"
    }
   ],
   "source": [
    "df_exchange = pd.merge(left=df_quotes_selected, right=df_exchange_codes, left_on=\"exchange\", right_on=\"exchange_code\").drop(columns=[\"exchange_code\", \"exchange\"]).rename(columns={\"exchange_name\": \"exchange\"})\n",
    "df_exchange.head()"
   ]
  },
  {
   "cell_type": "markdown",
   "metadata": {},
   "source": [
    "Create new a file and include the ingestion start and end time in the filename "
   ]
  },
  {
   "cell_type": "code",
   "execution_count": 7,
   "metadata": {},
   "outputs": [],
   "source": [
    "# TODO\n",
    "# load (overwrite) data to a csv file \n",
    "df_exchange.to_parquet(\"data/quotes.parquet\")"
   ]
  },
  {
   "cell_type": "code",
   "execution_count": 8,
   "metadata": {},
   "outputs": [],
   "source": [
    "import datetime as dt \n",
    "current_timestamp = dt.datetime.now().isoformat().replace(\":\",\"-\")\n",
    "df_exchange.to_parquet(f\"data/quotes_{current_timestamp}.parquet\")"
   ]
  },
  {
   "cell_type": "markdown",
   "metadata": {},
   "source": [
    "Upsert data into postgres database table using timestamp as the primary key"
   ]
  },
  {
   "cell_type": "code",
   "execution_count": 16,
   "metadata": {},
   "outputs": [],
   "source": [
    "# import required libraries\n",
    "# TODO\n",
    "from sqlalchemy import create_engine, Table, Column, Integer, String, MetaData, Float # https://www.tutorialspoint.com/sqlalchemy/sqlalchemy_core_creating_table.htm\n",
    "from sqlalchemy.engine import URL\n",
    "from sqlalchemy.dialects import postgresql\n",
    "from secretsfile import db_user, db_password, db_server_name, db_database_name\n",
    "from sqlalchemy.schema import CreateTable "
   ]
  },
  {
   "cell_type": "code",
   "execution_count": 17,
   "metadata": {},
   "outputs": [],
   "source": [
    "# create connection to database \n",
    "# TODO\n",
    "connection_url = URL.create(\n",
    "    drivername = \"postgresql+pg8000\", \n",
    "    username = db_user,\n",
    "    password = db_password,\n",
    "    host = db_server_name, \n",
    "    port = 5432,\n",
    "    database = db_database_name, \n",
    ")\n",
    "\n"
   ]
  },
  {
   "cell_type": "code",
   "execution_count": 18,
   "metadata": {},
   "outputs": [],
   "source": [
    "# create ORM model \n",
    "# TODO\n",
    "\n",
    "engine = create_engine(connection_url)"
   ]
  },
  {
   "cell_type": "code",
   "execution_count": 21,
   "metadata": {},
   "outputs": [],
   "source": [
    "# perform upsert\n",
    "# TODO\n",
    "meta = MetaData()\n",
    "trades_table = Table(\n",
    "    \"trades\", meta, \n",
    "    Column(\"timestamp\", String, primary_key=True),\n",
    "    Column(\"id\", Integer, primary_key=True),\n",
    "    Column(\"price\", Float),\n",
    "    Column(\"size\", Float),\n",
    "    Column(\"exchange\", String)\n",
    ")\n",
    "meta.create_all(engine) # creates table if it does not exist "
   ]
  },
  {
   "cell_type": "code",
   "execution_count": 22,
   "metadata": {},
   "outputs": [
    {
     "data": {
      "text/plain": [
       "<sqlalchemy.engine.cursor.LegacyCursorResult at 0x16912339b80>"
      ]
     },
     "execution_count": 22,
     "metadata": {},
     "output_type": "execute_result"
    }
   ],
   "source": [
    "insert_statement = postgresql.insert(trades_table).values(df_exchange.to_dict(orient='records'))\n",
    "upsert_statement = insert_statement.on_conflict_do_update(\n",
    "    index_elements=['id', 'timestamp'],\n",
    "    set_={c.key: c for c in insert_statement.excluded if c.key not in ['id', 'datetime']})\n",
    "engine.execute(upsert_statement)"
   ]
  }
 ],
 "metadata": {
  "interpreter": {
   "hash": "ec7476cd5298a73f69e8eecc398cdeac6e308767034e2d84faebe029453106ad"
  },
  "kernelspec": {
   "display_name": "Python 3.9.12 ('dec')",
   "language": "python",
   "name": "python3"
  },
  "language_info": {
   "codemirror_mode": {
    "name": "ipython",
    "version": 3
   },
   "file_extension": ".py",
   "mimetype": "text/x-python",
   "name": "python",
   "nbconvert_exporter": "python",
   "pygments_lexer": "ipython3",
   "version": "3.9.17"
  },
  "orig_nbformat": 4
 },
 "nbformat": 4,
 "nbformat_minor": 2
}
