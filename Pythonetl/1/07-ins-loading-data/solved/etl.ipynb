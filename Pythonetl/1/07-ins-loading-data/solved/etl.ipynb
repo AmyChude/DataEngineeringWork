{
 "cells": [
  {
   "cell_type": "code",
   "execution_count": 1,
   "metadata": {},
   "outputs": [],
   "source": [
    "import requests\n",
    "import pandas as pd \n",
    "from secrets_config import api_key # https://home.openweathermap.org/ "
   ]
  },
  {
   "cell_type": "code",
   "execution_count": 9,
   "metadata": {},
   "outputs": [],
   "source": [
    "# how to extract data from multiple cities? e.g. canberra, sydney, etc\n",
    "\n",
    "# 1. create a list of cities (csv)\n",
    "# 2. read list of cities (csv) \n",
    "# 3. request data for each city (json) and push to a list \n",
    "# 4. convert list into dataframe "
   ]
  },
  {
   "cell_type": "code",
   "execution_count": 2,
   "metadata": {},
   "outputs": [
    {
     "data": {
      "text/html": [
       "<div>\n",
       "<style scoped>\n",
       "    .dataframe tbody tr th:only-of-type {\n",
       "        vertical-align: middle;\n",
       "    }\n",
       "\n",
       "    .dataframe tbody tr th {\n",
       "        vertical-align: top;\n",
       "    }\n",
       "\n",
       "    .dataframe thead th {\n",
       "        text-align: right;\n",
       "    }\n",
       "</style>\n",
       "<table border=\"1\" class=\"dataframe\">\n",
       "  <thead>\n",
       "    <tr style=\"text-align: right;\">\n",
       "      <th></th>\n",
       "      <th>city_name</th>\n",
       "    </tr>\n",
       "  </thead>\n",
       "  <tbody>\n",
       "    <tr>\n",
       "      <th>0</th>\n",
       "      <td>canberra</td>\n",
       "    </tr>\n",
       "    <tr>\n",
       "      <th>1</th>\n",
       "      <td>sydney</td>\n",
       "    </tr>\n",
       "    <tr>\n",
       "      <th>2</th>\n",
       "      <td>darwin</td>\n",
       "    </tr>\n",
       "    <tr>\n",
       "      <th>3</th>\n",
       "      <td>brisbane</td>\n",
       "    </tr>\n",
       "    <tr>\n",
       "      <th>4</th>\n",
       "      <td>adelaide</td>\n",
       "    </tr>\n",
       "  </tbody>\n",
       "</table>\n",
       "</div>"
      ],
      "text/plain": [
       "  city_name\n",
       "0  canberra\n",
       "1    sydney\n",
       "2    darwin\n",
       "3  brisbane\n",
       "4  adelaide"
      ]
     },
     "execution_count": 2,
     "metadata": {},
     "output_type": "execute_result"
    }
   ],
   "source": [
    "# read list of cities\n",
    "df_cities = pd.read_csv(\"data/australian_capital_cities.csv\")\n",
    "df_cities.head()"
   ]
  },
  {
   "cell_type": "code",
   "execution_count": 3,
   "metadata": {},
   "outputs": [],
   "source": [
    "# request data for each city (json) and push to a list \n",
    "weather_data = []\n",
    "for city_name in df_cities[\"city_name\"]:\n",
    "    params = {\n",
    "        \"q\": city_name,\n",
    "        \"units\": \"metric\",\n",
    "        \"appid\": api_key\n",
    "    }\n",
    "    response = requests.get(f\"http://api.openweathermap.org/data/2.5/weather\", params=params)\n",
    "    if response.status_code == 200: \n",
    "        weather_data.append(response.json())\n",
    "    else: \n",
    "        raise Exception(\"Extracting weather api data failed. Please check if API limits have been reached.\")"
   ]
  },
  {
   "cell_type": "code",
   "execution_count": 4,
   "metadata": {},
   "outputs": [
    {
     "name": "stdout",
     "output_type": "stream",
     "text": [
      "[{'coord': {'lon': 149.1281, 'lat': -35.2835}, 'weather': [{'id': 800, 'main': 'Clear', 'description': 'clear sky', 'icon': '01n'}], 'base': 'stations', 'main': {'temp': 1.83, 'feels_like': 1.83, 'temp_min': -0.01, 'temp_max': 5.37, 'pressure': 1036, 'humidity': 91}, 'visibility': 10000, 'wind': {'speed': 0, 'deg': 0}, 'clouds': {'all': 0}, 'dt': 1690292742, 'sys': {'type': 2, 'id': 2081752, 'country': 'AU', 'sunrise': 1690232666, 'sunset': 1690269314}, 'timezone': 36000, 'id': 2172517, 'name': 'Canberra', 'cod': 200}, {'coord': {'lon': 151.2073, 'lat': -33.8679}, 'weather': [{'id': 800, 'main': 'Clear', 'description': 'clear sky', 'icon': '01n'}], 'base': 'stations', 'main': {'temp': 9.28, 'feels_like': 7.59, 'temp_min': 5.69, 'temp_max': 11.24, 'pressure': 1035, 'humidity': 87}, 'visibility': 10000, 'wind': {'speed': 3.09, 'deg': 320}, 'clouds': {'all': 0}, 'dt': 1690293155, 'sys': {'type': 2, 'id': 2010638, 'country': 'AU', 'sunrise': 1690231986, 'sunset': 1690268996}, 'timezone': 36000, 'id': 2147714, 'name': 'Sydney', 'cod': 200}, {'coord': {'lon': 130.8418, 'lat': -12.4611}, 'weather': [{'id': 800, 'main': 'Clear', 'description': 'clear sky', 'icon': '01n'}], 'base': 'stations', 'main': {'temp': 14.99, 'feels_like': 14.29, 'temp_min': 14.99, 'temp_max': 14.99, 'pressure': 1018, 'humidity': 67}, 'visibility': 10000, 'wind': {'speed': 1.54, 'deg': 80}, 'clouds': {'all': 0}, 'dt': 1690293367, 'sys': {'type': 1, 'id': 9574, 'country': 'AU', 'sunrise': 1690234657, 'sunset': 1690276101}, 'timezone': 34200, 'id': 2073124, 'name': 'Darwin', 'cod': 200}, {'coord': {'lon': 153.0281, 'lat': -27.4679}, 'weather': [{'id': 801, 'main': 'Clouds', 'description': 'few clouds', 'icon': '02n'}], 'base': 'stations', 'main': {'temp': 12.72, 'feels_like': 11.95, 'temp_min': 9.92, 'temp_max': 15.48, 'pressure': 1033, 'humidity': 73}, 'visibility': 10000, 'wind': {'speed': 3.09, 'deg': 210}, 'clouds': {'all': 20}, 'dt': 1690293080, 'sys': {'type': 2, 'id': 2012892, 'country': 'AU', 'sunrise': 1690230802, 'sunset': 1690269306}, 'timezone': 36000, 'id': 2174003, 'name': 'Brisbane', 'cod': 200}, {'coord': {'lon': 138.6, 'lat': -34.9333}, 'weather': [{'id': 800, 'main': 'Clear', 'description': 'clear sky', 'icon': '01n'}], 'base': 'stations', 'main': {'temp': 9.58, 'feels_like': 8.89, 'temp_min': 7.34, 'temp_max': 12.39, 'pressure': 1033, 'humidity': 79}, 'visibility': 10000, 'wind': {'speed': 1.79, 'deg': 106, 'gust': 3.58}, 'clouds': {'all': 0}, 'dt': 1690292877, 'sys': {'type': 2, 'id': 2001763, 'country': 'AU', 'sunrise': 1690235146, 'sunset': 1690271887}, 'timezone': 34200, 'id': 2078025, 'name': 'Adelaide', 'cod': 200}, {'coord': {'lon': 147.3294, 'lat': -42.8794}, 'weather': [{'id': 500, 'main': 'Rain', 'description': 'light rain', 'icon': '10n'}], 'base': 'stations', 'main': {'temp': 11.43, 'feels_like': 10.38, 'temp_min': 9.59, 'temp_max': 11.92, 'pressure': 1023, 'humidity': 67}, 'visibility': 10000, 'wind': {'speed': 6.69, 'deg': 320}, 'rain': {'1h': 0.13}, 'clouds': {'all': 75}, 'dt': 1690293313, 'sys': {'type': 2, 'id': 2002195, 'country': 'AU', 'sunrise': 1690234206, 'sunset': 1690268638}, 'timezone': 36000, 'id': 2163355, 'name': 'Hobart', 'cod': 200}, {'coord': {'lon': -80.6081, 'lat': 28.0836}, 'weather': [{'id': 800, 'main': 'Clear', 'description': 'clear sky', 'icon': '01d'}], 'base': 'stations', 'main': {'temp': 29.77, 'feels_like': 35.68, 'temp_min': 28.35, 'temp_max': 31.69, 'pressure': 1021, 'humidity': 75}, 'visibility': 10000, 'wind': {'speed': 2.06, 'deg': 270}, 'clouds': {'all': 0}, 'dt': 1690292730, 'sys': {'type': 2, 'id': 2007578, 'country': 'US', 'sunrise': 1690281644, 'sunset': 1690330612}, 'timezone': -14400, 'id': 4163971, 'name': 'Melbourne', 'cod': 200}, {'coord': {'lon': 115.8333, 'lat': -31.9333}, 'weather': [{'id': 520, 'main': 'Rain', 'description': 'light intensity shower rain', 'icon': '09n'}], 'base': 'stations', 'main': {'temp': 12.56, 'feels_like': 12.33, 'temp_min': 12.07, 'temp_max': 13.1, 'pressure': 1014, 'humidity': 94}, 'visibility': 10000, 'wind': {'speed': 6.69, 'deg': 350}, 'rain': {'1h': 0.22}, 'clouds': {'all': 75}, 'dt': 1690292850, 'sys': {'type': 2, 'id': 63154, 'country': 'AU', 'sunrise': 1690240236, 'sunset': 1690277727}, 'timezone': 28800, 'id': 2063523, 'name': 'Perth', 'cod': 200}]\n"
     ]
    }
   ],
   "source": [
    "# show requested data \n",
    "print(weather_data)"
   ]
  },
  {
   "cell_type": "code",
   "execution_count": 5,
   "metadata": {},
   "outputs": [
    {
     "data": {
      "text/html": [
       "<div>\n",
       "<style scoped>\n",
       "    .dataframe tbody tr th:only-of-type {\n",
       "        vertical-align: middle;\n",
       "    }\n",
       "\n",
       "    .dataframe tbody tr th {\n",
       "        vertical-align: top;\n",
       "    }\n",
       "\n",
       "    .dataframe thead th {\n",
       "        text-align: right;\n",
       "    }\n",
       "</style>\n",
       "<table border=\"1\" class=\"dataframe\">\n",
       "  <thead>\n",
       "    <tr style=\"text-align: right;\">\n",
       "      <th></th>\n",
       "      <th>weather</th>\n",
       "      <th>base</th>\n",
       "      <th>visibility</th>\n",
       "      <th>dt</th>\n",
       "      <th>timezone</th>\n",
       "      <th>id</th>\n",
       "      <th>name</th>\n",
       "      <th>cod</th>\n",
       "      <th>coord.lon</th>\n",
       "      <th>coord.lat</th>\n",
       "      <th>...</th>\n",
       "      <th>wind.speed</th>\n",
       "      <th>wind.deg</th>\n",
       "      <th>clouds.all</th>\n",
       "      <th>sys.type</th>\n",
       "      <th>sys.id</th>\n",
       "      <th>sys.country</th>\n",
       "      <th>sys.sunrise</th>\n",
       "      <th>sys.sunset</th>\n",
       "      <th>wind.gust</th>\n",
       "      <th>rain.1h</th>\n",
       "    </tr>\n",
       "  </thead>\n",
       "  <tbody>\n",
       "    <tr>\n",
       "      <th>0</th>\n",
       "      <td>[{'id': 800, 'main': 'Clear', 'description': '...</td>\n",
       "      <td>stations</td>\n",
       "      <td>10000</td>\n",
       "      <td>1690292742</td>\n",
       "      <td>36000</td>\n",
       "      <td>2172517</td>\n",
       "      <td>Canberra</td>\n",
       "      <td>200</td>\n",
       "      <td>149.1281</td>\n",
       "      <td>-35.2835</td>\n",
       "      <td>...</td>\n",
       "      <td>0.00</td>\n",
       "      <td>0</td>\n",
       "      <td>0</td>\n",
       "      <td>2</td>\n",
       "      <td>2081752</td>\n",
       "      <td>AU</td>\n",
       "      <td>1690232666</td>\n",
       "      <td>1690269314</td>\n",
       "      <td>NaN</td>\n",
       "      <td>NaN</td>\n",
       "    </tr>\n",
       "    <tr>\n",
       "      <th>1</th>\n",
       "      <td>[{'id': 800, 'main': 'Clear', 'description': '...</td>\n",
       "      <td>stations</td>\n",
       "      <td>10000</td>\n",
       "      <td>1690293155</td>\n",
       "      <td>36000</td>\n",
       "      <td>2147714</td>\n",
       "      <td>Sydney</td>\n",
       "      <td>200</td>\n",
       "      <td>151.2073</td>\n",
       "      <td>-33.8679</td>\n",
       "      <td>...</td>\n",
       "      <td>3.09</td>\n",
       "      <td>320</td>\n",
       "      <td>0</td>\n",
       "      <td>2</td>\n",
       "      <td>2010638</td>\n",
       "      <td>AU</td>\n",
       "      <td>1690231986</td>\n",
       "      <td>1690268996</td>\n",
       "      <td>NaN</td>\n",
       "      <td>NaN</td>\n",
       "    </tr>\n",
       "    <tr>\n",
       "      <th>2</th>\n",
       "      <td>[{'id': 800, 'main': 'Clear', 'description': '...</td>\n",
       "      <td>stations</td>\n",
       "      <td>10000</td>\n",
       "      <td>1690293367</td>\n",
       "      <td>34200</td>\n",
       "      <td>2073124</td>\n",
       "      <td>Darwin</td>\n",
       "      <td>200</td>\n",
       "      <td>130.8418</td>\n",
       "      <td>-12.4611</td>\n",
       "      <td>...</td>\n",
       "      <td>1.54</td>\n",
       "      <td>80</td>\n",
       "      <td>0</td>\n",
       "      <td>1</td>\n",
       "      <td>9574</td>\n",
       "      <td>AU</td>\n",
       "      <td>1690234657</td>\n",
       "      <td>1690276101</td>\n",
       "      <td>NaN</td>\n",
       "      <td>NaN</td>\n",
       "    </tr>\n",
       "    <tr>\n",
       "      <th>3</th>\n",
       "      <td>[{'id': 801, 'main': 'Clouds', 'description': ...</td>\n",
       "      <td>stations</td>\n",
       "      <td>10000</td>\n",
       "      <td>1690293080</td>\n",
       "      <td>36000</td>\n",
       "      <td>2174003</td>\n",
       "      <td>Brisbane</td>\n",
       "      <td>200</td>\n",
       "      <td>153.0281</td>\n",
       "      <td>-27.4679</td>\n",
       "      <td>...</td>\n",
       "      <td>3.09</td>\n",
       "      <td>210</td>\n",
       "      <td>20</td>\n",
       "      <td>2</td>\n",
       "      <td>2012892</td>\n",
       "      <td>AU</td>\n",
       "      <td>1690230802</td>\n",
       "      <td>1690269306</td>\n",
       "      <td>NaN</td>\n",
       "      <td>NaN</td>\n",
       "    </tr>\n",
       "    <tr>\n",
       "      <th>4</th>\n",
       "      <td>[{'id': 800, 'main': 'Clear', 'description': '...</td>\n",
       "      <td>stations</td>\n",
       "      <td>10000</td>\n",
       "      <td>1690292877</td>\n",
       "      <td>34200</td>\n",
       "      <td>2078025</td>\n",
       "      <td>Adelaide</td>\n",
       "      <td>200</td>\n",
       "      <td>138.6000</td>\n",
       "      <td>-34.9333</td>\n",
       "      <td>...</td>\n",
       "      <td>1.79</td>\n",
       "      <td>106</td>\n",
       "      <td>0</td>\n",
       "      <td>2</td>\n",
       "      <td>2001763</td>\n",
       "      <td>AU</td>\n",
       "      <td>1690235146</td>\n",
       "      <td>1690271887</td>\n",
       "      <td>3.58</td>\n",
       "      <td>NaN</td>\n",
       "    </tr>\n",
       "  </tbody>\n",
       "</table>\n",
       "<p>5 rows × 26 columns</p>\n",
       "</div>"
      ],
      "text/plain": [
       "                                             weather      base  visibility  \\\n",
       "0  [{'id': 800, 'main': 'Clear', 'description': '...  stations       10000   \n",
       "1  [{'id': 800, 'main': 'Clear', 'description': '...  stations       10000   \n",
       "2  [{'id': 800, 'main': 'Clear', 'description': '...  stations       10000   \n",
       "3  [{'id': 801, 'main': 'Clouds', 'description': ...  stations       10000   \n",
       "4  [{'id': 800, 'main': 'Clear', 'description': '...  stations       10000   \n",
       "\n",
       "           dt  timezone       id      name  cod  coord.lon  coord.lat  ...  \\\n",
       "0  1690292742     36000  2172517  Canberra  200   149.1281   -35.2835  ...   \n",
       "1  1690293155     36000  2147714    Sydney  200   151.2073   -33.8679  ...   \n",
       "2  1690293367     34200  2073124    Darwin  200   130.8418   -12.4611  ...   \n",
       "3  1690293080     36000  2174003  Brisbane  200   153.0281   -27.4679  ...   \n",
       "4  1690292877     34200  2078025  Adelaide  200   138.6000   -34.9333  ...   \n",
       "\n",
       "   wind.speed  wind.deg  clouds.all  sys.type   sys.id  sys.country  \\\n",
       "0        0.00         0           0         2  2081752           AU   \n",
       "1        3.09       320           0         2  2010638           AU   \n",
       "2        1.54        80           0         1     9574           AU   \n",
       "3        3.09       210          20         2  2012892           AU   \n",
       "4        1.79       106           0         2  2001763           AU   \n",
       "\n",
       "   sys.sunrise  sys.sunset  wind.gust  rain.1h  \n",
       "0   1690232666  1690269314        NaN      NaN  \n",
       "1   1690231986  1690268996        NaN      NaN  \n",
       "2   1690234657  1690276101        NaN      NaN  \n",
       "3   1690230802  1690269306        NaN      NaN  \n",
       "4   1690235146  1690271887       3.58      NaN  \n",
       "\n",
       "[5 rows x 26 columns]"
      ]
     },
     "execution_count": 5,
     "metadata": {},
     "output_type": "execute_result"
    }
   ],
   "source": [
    "# convert list into dataframe \n",
    "df_weather_cities = pd.json_normalize(weather_data)\n",
    "df_weather_cities.head()"
   ]
  },
  {
   "cell_type": "markdown",
   "metadata": {},
   "source": [
    "### Transforming data"
   ]
  },
  {
   "cell_type": "code",
   "execution_count": 6,
   "metadata": {},
   "outputs": [],
   "source": [
    "# set city names to lowercase \n",
    "df_weather_cities[\"city_name\"] = df_weather_cities[\"name\"].str.lower()"
   ]
  },
  {
   "cell_type": "code",
   "execution_count": 7,
   "metadata": {},
   "outputs": [
    {
     "data": {
      "text/html": [
       "<div>\n",
       "<style scoped>\n",
       "    .dataframe tbody tr th:only-of-type {\n",
       "        vertical-align: middle;\n",
       "    }\n",
       "\n",
       "    .dataframe tbody tr th {\n",
       "        vertical-align: top;\n",
       "    }\n",
       "\n",
       "    .dataframe thead th {\n",
       "        text-align: right;\n",
       "    }\n",
       "</style>\n",
       "<table border=\"1\" class=\"dataframe\">\n",
       "  <thead>\n",
       "    <tr style=\"text-align: right;\">\n",
       "      <th></th>\n",
       "      <th>city_name</th>\n",
       "      <th>population</th>\n",
       "    </tr>\n",
       "  </thead>\n",
       "  <tbody>\n",
       "    <tr>\n",
       "      <th>0</th>\n",
       "      <td>canberra</td>\n",
       "      <td>431611</td>\n",
       "    </tr>\n",
       "    <tr>\n",
       "      <th>1</th>\n",
       "      <td>sydney</td>\n",
       "      <td>5361466</td>\n",
       "    </tr>\n",
       "    <tr>\n",
       "      <th>2</th>\n",
       "      <td>darwin</td>\n",
       "      <td>146982</td>\n",
       "    </tr>\n",
       "    <tr>\n",
       "      <th>3</th>\n",
       "      <td>brisbane</td>\n",
       "      <td>2582007</td>\n",
       "    </tr>\n",
       "    <tr>\n",
       "      <th>4</th>\n",
       "      <td>adelaide</td>\n",
       "      <td>1378413</td>\n",
       "    </tr>\n",
       "  </tbody>\n",
       "</table>\n",
       "</div>"
      ],
      "text/plain": [
       "  city_name  population\n",
       "0  canberra      431611\n",
       "1    sydney     5361466\n",
       "2    darwin      146982\n",
       "3  brisbane     2582007\n",
       "4  adelaide     1378413"
      ]
     },
     "execution_count": 7,
     "metadata": {},
     "output_type": "execute_result"
    }
   ],
   "source": [
    "df_population = pd.read_csv(\"data/australian_city_population.csv\")\n",
    "df_population.head()"
   ]
  },
  {
   "cell_type": "code",
   "execution_count": 8,
   "metadata": {},
   "outputs": [
    {
     "data": {
      "text/html": [
       "<div>\n",
       "<style scoped>\n",
       "    .dataframe tbody tr th:only-of-type {\n",
       "        vertical-align: middle;\n",
       "    }\n",
       "\n",
       "    .dataframe tbody tr th {\n",
       "        vertical-align: top;\n",
       "    }\n",
       "\n",
       "    .dataframe thead th {\n",
       "        text-align: right;\n",
       "    }\n",
       "</style>\n",
       "<table border=\"1\" class=\"dataframe\">\n",
       "  <thead>\n",
       "    <tr style=\"text-align: right;\">\n",
       "      <th></th>\n",
       "      <th>weather</th>\n",
       "      <th>base</th>\n",
       "      <th>visibility</th>\n",
       "      <th>dt</th>\n",
       "      <th>timezone</th>\n",
       "      <th>id</th>\n",
       "      <th>name</th>\n",
       "      <th>cod</th>\n",
       "      <th>coord.lon</th>\n",
       "      <th>coord.lat</th>\n",
       "      <th>...</th>\n",
       "      <th>clouds.all</th>\n",
       "      <th>sys.type</th>\n",
       "      <th>sys.id</th>\n",
       "      <th>sys.country</th>\n",
       "      <th>sys.sunrise</th>\n",
       "      <th>sys.sunset</th>\n",
       "      <th>wind.gust</th>\n",
       "      <th>rain.1h</th>\n",
       "      <th>city_name</th>\n",
       "      <th>population</th>\n",
       "    </tr>\n",
       "  </thead>\n",
       "  <tbody>\n",
       "    <tr>\n",
       "      <th>0</th>\n",
       "      <td>[{'id': 800, 'main': 'Clear', 'description': '...</td>\n",
       "      <td>stations</td>\n",
       "      <td>10000</td>\n",
       "      <td>1690292742</td>\n",
       "      <td>36000</td>\n",
       "      <td>2172517</td>\n",
       "      <td>Canberra</td>\n",
       "      <td>200</td>\n",
       "      <td>149.1281</td>\n",
       "      <td>-35.2835</td>\n",
       "      <td>...</td>\n",
       "      <td>0</td>\n",
       "      <td>2</td>\n",
       "      <td>2081752</td>\n",
       "      <td>AU</td>\n",
       "      <td>1690232666</td>\n",
       "      <td>1690269314</td>\n",
       "      <td>NaN</td>\n",
       "      <td>NaN</td>\n",
       "      <td>canberra</td>\n",
       "      <td>431611</td>\n",
       "    </tr>\n",
       "    <tr>\n",
       "      <th>1</th>\n",
       "      <td>[{'id': 800, 'main': 'Clear', 'description': '...</td>\n",
       "      <td>stations</td>\n",
       "      <td>10000</td>\n",
       "      <td>1690293155</td>\n",
       "      <td>36000</td>\n",
       "      <td>2147714</td>\n",
       "      <td>Sydney</td>\n",
       "      <td>200</td>\n",
       "      <td>151.2073</td>\n",
       "      <td>-33.8679</td>\n",
       "      <td>...</td>\n",
       "      <td>0</td>\n",
       "      <td>2</td>\n",
       "      <td>2010638</td>\n",
       "      <td>AU</td>\n",
       "      <td>1690231986</td>\n",
       "      <td>1690268996</td>\n",
       "      <td>NaN</td>\n",
       "      <td>NaN</td>\n",
       "      <td>sydney</td>\n",
       "      <td>5361466</td>\n",
       "    </tr>\n",
       "    <tr>\n",
       "      <th>2</th>\n",
       "      <td>[{'id': 800, 'main': 'Clear', 'description': '...</td>\n",
       "      <td>stations</td>\n",
       "      <td>10000</td>\n",
       "      <td>1690293367</td>\n",
       "      <td>34200</td>\n",
       "      <td>2073124</td>\n",
       "      <td>Darwin</td>\n",
       "      <td>200</td>\n",
       "      <td>130.8418</td>\n",
       "      <td>-12.4611</td>\n",
       "      <td>...</td>\n",
       "      <td>0</td>\n",
       "      <td>1</td>\n",
       "      <td>9574</td>\n",
       "      <td>AU</td>\n",
       "      <td>1690234657</td>\n",
       "      <td>1690276101</td>\n",
       "      <td>NaN</td>\n",
       "      <td>NaN</td>\n",
       "      <td>darwin</td>\n",
       "      <td>146982</td>\n",
       "    </tr>\n",
       "    <tr>\n",
       "      <th>3</th>\n",
       "      <td>[{'id': 801, 'main': 'Clouds', 'description': ...</td>\n",
       "      <td>stations</td>\n",
       "      <td>10000</td>\n",
       "      <td>1690293080</td>\n",
       "      <td>36000</td>\n",
       "      <td>2174003</td>\n",
       "      <td>Brisbane</td>\n",
       "      <td>200</td>\n",
       "      <td>153.0281</td>\n",
       "      <td>-27.4679</td>\n",
       "      <td>...</td>\n",
       "      <td>20</td>\n",
       "      <td>2</td>\n",
       "      <td>2012892</td>\n",
       "      <td>AU</td>\n",
       "      <td>1690230802</td>\n",
       "      <td>1690269306</td>\n",
       "      <td>NaN</td>\n",
       "      <td>NaN</td>\n",
       "      <td>brisbane</td>\n",
       "      <td>2582007</td>\n",
       "    </tr>\n",
       "    <tr>\n",
       "      <th>4</th>\n",
       "      <td>[{'id': 800, 'main': 'Clear', 'description': '...</td>\n",
       "      <td>stations</td>\n",
       "      <td>10000</td>\n",
       "      <td>1690292877</td>\n",
       "      <td>34200</td>\n",
       "      <td>2078025</td>\n",
       "      <td>Adelaide</td>\n",
       "      <td>200</td>\n",
       "      <td>138.6000</td>\n",
       "      <td>-34.9333</td>\n",
       "      <td>...</td>\n",
       "      <td>0</td>\n",
       "      <td>2</td>\n",
       "      <td>2001763</td>\n",
       "      <td>AU</td>\n",
       "      <td>1690235146</td>\n",
       "      <td>1690271887</td>\n",
       "      <td>3.58</td>\n",
       "      <td>NaN</td>\n",
       "      <td>adelaide</td>\n",
       "      <td>1378413</td>\n",
       "    </tr>\n",
       "  </tbody>\n",
       "</table>\n",
       "<p>5 rows × 28 columns</p>\n",
       "</div>"
      ],
      "text/plain": [
       "                                             weather      base  visibility  \\\n",
       "0  [{'id': 800, 'main': 'Clear', 'description': '...  stations       10000   \n",
       "1  [{'id': 800, 'main': 'Clear', 'description': '...  stations       10000   \n",
       "2  [{'id': 800, 'main': 'Clear', 'description': '...  stations       10000   \n",
       "3  [{'id': 801, 'main': 'Clouds', 'description': ...  stations       10000   \n",
       "4  [{'id': 800, 'main': 'Clear', 'description': '...  stations       10000   \n",
       "\n",
       "           dt  timezone       id      name  cod  coord.lon  coord.lat  ...  \\\n",
       "0  1690292742     36000  2172517  Canberra  200   149.1281   -35.2835  ...   \n",
       "1  1690293155     36000  2147714    Sydney  200   151.2073   -33.8679  ...   \n",
       "2  1690293367     34200  2073124    Darwin  200   130.8418   -12.4611  ...   \n",
       "3  1690293080     36000  2174003  Brisbane  200   153.0281   -27.4679  ...   \n",
       "4  1690292877     34200  2078025  Adelaide  200   138.6000   -34.9333  ...   \n",
       "\n",
       "   clouds.all  sys.type   sys.id  sys.country  sys.sunrise  sys.sunset  \\\n",
       "0           0         2  2081752           AU   1690232666  1690269314   \n",
       "1           0         2  2010638           AU   1690231986  1690268996   \n",
       "2           0         1     9574           AU   1690234657  1690276101   \n",
       "3          20         2  2012892           AU   1690230802  1690269306   \n",
       "4           0         2  2001763           AU   1690235146  1690271887   \n",
       "\n",
       "   wind.gust  rain.1h  city_name  population  \n",
       "0        NaN      NaN   canberra      431611  \n",
       "1        NaN      NaN     sydney     5361466  \n",
       "2        NaN      NaN     darwin      146982  \n",
       "3        NaN      NaN   brisbane     2582007  \n",
       "4       3.58      NaN   adelaide     1378413  \n",
       "\n",
       "[5 rows x 28 columns]"
      ]
     },
     "execution_count": 8,
     "metadata": {},
     "output_type": "execute_result"
    }
   ],
   "source": [
    "df_merged = pd.merge(left=df_weather_cities, right=df_population, on=[\"city_name\"])\n",
    "df_merged.head()"
   ]
  },
  {
   "cell_type": "code",
   "execution_count": 9,
   "metadata": {},
   "outputs": [
    {
     "data": {
      "text/plain": [
       "Index(['weather', 'base', 'visibility', 'dt', 'timezone', 'id', 'name', 'cod',\n",
       "       'coord.lon', 'coord.lat', 'main.temp', 'main.feels_like',\n",
       "       'main.temp_min', 'main.temp_max', 'main.pressure', 'main.humidity',\n",
       "       'wind.speed', 'wind.deg', 'clouds.all', 'sys.type', 'sys.id',\n",
       "       'sys.country', 'sys.sunrise', 'sys.sunset', 'wind.gust', 'rain.1h',\n",
       "       'city_name', 'population'],\n",
       "      dtype='object')"
      ]
     },
     "execution_count": 9,
     "metadata": {},
     "output_type": "execute_result"
    }
   ],
   "source": [
    "# print out all columns and pick only relevant ones \n",
    "df_merged.columns"
   ]
  },
  {
   "cell_type": "code",
   "execution_count": 10,
   "metadata": {},
   "outputs": [
    {
     "data": {
      "text/html": [
       "<div>\n",
       "<style scoped>\n",
       "    .dataframe tbody tr th:only-of-type {\n",
       "        vertical-align: middle;\n",
       "    }\n",
       "\n",
       "    .dataframe tbody tr th {\n",
       "        vertical-align: top;\n",
       "    }\n",
       "\n",
       "    .dataframe thead th {\n",
       "        text-align: right;\n",
       "    }\n",
       "</style>\n",
       "<table border=\"1\" class=\"dataframe\">\n",
       "  <thead>\n",
       "    <tr style=\"text-align: right;\">\n",
       "      <th></th>\n",
       "      <th>dt</th>\n",
       "      <th>id</th>\n",
       "      <th>name</th>\n",
       "      <th>main.temp</th>\n",
       "      <th>population</th>\n",
       "    </tr>\n",
       "  </thead>\n",
       "  <tbody>\n",
       "    <tr>\n",
       "      <th>0</th>\n",
       "      <td>1690292742</td>\n",
       "      <td>2172517</td>\n",
       "      <td>Canberra</td>\n",
       "      <td>1.83</td>\n",
       "      <td>431611</td>\n",
       "    </tr>\n",
       "    <tr>\n",
       "      <th>1</th>\n",
       "      <td>1690293155</td>\n",
       "      <td>2147714</td>\n",
       "      <td>Sydney</td>\n",
       "      <td>9.28</td>\n",
       "      <td>5361466</td>\n",
       "    </tr>\n",
       "    <tr>\n",
       "      <th>2</th>\n",
       "      <td>1690293367</td>\n",
       "      <td>2073124</td>\n",
       "      <td>Darwin</td>\n",
       "      <td>14.99</td>\n",
       "      <td>146982</td>\n",
       "    </tr>\n",
       "    <tr>\n",
       "      <th>3</th>\n",
       "      <td>1690293080</td>\n",
       "      <td>2174003</td>\n",
       "      <td>Brisbane</td>\n",
       "      <td>12.72</td>\n",
       "      <td>2582007</td>\n",
       "    </tr>\n",
       "    <tr>\n",
       "      <th>4</th>\n",
       "      <td>1690292877</td>\n",
       "      <td>2078025</td>\n",
       "      <td>Adelaide</td>\n",
       "      <td>9.58</td>\n",
       "      <td>1378413</td>\n",
       "    </tr>\n",
       "  </tbody>\n",
       "</table>\n",
       "</div>"
      ],
      "text/plain": [
       "           dt       id      name  main.temp  population\n",
       "0  1690292742  2172517  Canberra       1.83      431611\n",
       "1  1690293155  2147714    Sydney       9.28     5361466\n",
       "2  1690293367  2073124    Darwin      14.99      146982\n",
       "3  1690293080  2174003  Brisbane      12.72     2582007\n",
       "4  1690292877  2078025  Adelaide       9.58     1378413"
      ]
     },
     "execution_count": 10,
     "metadata": {},
     "output_type": "execute_result"
    }
   ],
   "source": [
    "df_selected = df_merged[[\"dt\", \"id\", \"name\", \"main.temp\", \"population\"]] \n",
    "df_selected.head()"
   ]
  },
  {
   "cell_type": "code",
   "execution_count": 11,
   "metadata": {},
   "outputs": [
    {
     "data": {
      "text/plain": [
       "dt              int64\n",
       "id              int64\n",
       "name           object\n",
       "main.temp     float64\n",
       "population      int64\n",
       "dtype: object"
      ]
     },
     "execution_count": 11,
     "metadata": {},
     "output_type": "execute_result"
    }
   ],
   "source": [
    "df_selected.dtypes"
   ]
  },
  {
   "cell_type": "code",
   "execution_count": 12,
   "metadata": {},
   "outputs": [
    {
     "name": "stderr",
     "output_type": "stream",
     "text": [
      "/var/folders/36/62h2k_3s07vbf145yklkj8740000gn/T/ipykernel_7974/4145054097.py:1: SettingWithCopyWarning: \n",
      "A value is trying to be set on a copy of a slice from a DataFrame.\n",
      "Try using .loc[row_indexer,col_indexer] = value instead\n",
      "\n",
      "See the caveats in the documentation: https://pandas.pydata.org/pandas-docs/stable/user_guide/indexing.html#returning-a-view-versus-a-copy\n",
      "  df_selected[\"unique_id\"] = df_selected[\"dt\"].astype(str) + df_selected[\"id\"].astype(str)\n"
     ]
    }
   ],
   "source": [
    "df_selected[\"unique_id\"] = df_selected[\"dt\"].astype(str) + df_selected[\"id\"].astype(str)"
   ]
  },
  {
   "cell_type": "code",
   "execution_count": 13,
   "metadata": {},
   "outputs": [
    {
     "name": "stderr",
     "output_type": "stream",
     "text": [
      "/var/folders/36/62h2k_3s07vbf145yklkj8740000gn/T/ipykernel_7974/1191350713.py:2: SettingWithCopyWarning: \n",
      "A value is trying to be set on a copy of a slice from a DataFrame.\n",
      "Try using .loc[row_indexer,col_indexer] = value instead\n",
      "\n",
      "See the caveats in the documentation: https://pandas.pydata.org/pandas-docs/stable/user_guide/indexing.html#returning-a-view-versus-a-copy\n",
      "  df_selected[\"dt\"] = pd.to_datetime(df_selected[\"dt\"], unit=\"s\")\n"
     ]
    },
    {
     "data": {
      "text/html": [
       "<div>\n",
       "<style scoped>\n",
       "    .dataframe tbody tr th:only-of-type {\n",
       "        vertical-align: middle;\n",
       "    }\n",
       "\n",
       "    .dataframe tbody tr th {\n",
       "        vertical-align: top;\n",
       "    }\n",
       "\n",
       "    .dataframe thead th {\n",
       "        text-align: right;\n",
       "    }\n",
       "</style>\n",
       "<table border=\"1\" class=\"dataframe\">\n",
       "  <thead>\n",
       "    <tr style=\"text-align: right;\">\n",
       "      <th></th>\n",
       "      <th>dt</th>\n",
       "      <th>id</th>\n",
       "      <th>name</th>\n",
       "      <th>main.temp</th>\n",
       "      <th>population</th>\n",
       "      <th>unique_id</th>\n",
       "    </tr>\n",
       "  </thead>\n",
       "  <tbody>\n",
       "    <tr>\n",
       "      <th>0</th>\n",
       "      <td>2023-07-25 13:45:42</td>\n",
       "      <td>2172517</td>\n",
       "      <td>Canberra</td>\n",
       "      <td>1.83</td>\n",
       "      <td>431611</td>\n",
       "      <td>16902927422172517</td>\n",
       "    </tr>\n",
       "    <tr>\n",
       "      <th>1</th>\n",
       "      <td>2023-07-25 13:52:35</td>\n",
       "      <td>2147714</td>\n",
       "      <td>Sydney</td>\n",
       "      <td>9.28</td>\n",
       "      <td>5361466</td>\n",
       "      <td>16902931552147714</td>\n",
       "    </tr>\n",
       "    <tr>\n",
       "      <th>2</th>\n",
       "      <td>2023-07-25 13:56:07</td>\n",
       "      <td>2073124</td>\n",
       "      <td>Darwin</td>\n",
       "      <td>14.99</td>\n",
       "      <td>146982</td>\n",
       "      <td>16902933672073124</td>\n",
       "    </tr>\n",
       "    <tr>\n",
       "      <th>3</th>\n",
       "      <td>2023-07-25 13:51:20</td>\n",
       "      <td>2174003</td>\n",
       "      <td>Brisbane</td>\n",
       "      <td>12.72</td>\n",
       "      <td>2582007</td>\n",
       "      <td>16902930802174003</td>\n",
       "    </tr>\n",
       "    <tr>\n",
       "      <th>4</th>\n",
       "      <td>2023-07-25 13:47:57</td>\n",
       "      <td>2078025</td>\n",
       "      <td>Adelaide</td>\n",
       "      <td>9.58</td>\n",
       "      <td>1378413</td>\n",
       "      <td>16902928772078025</td>\n",
       "    </tr>\n",
       "  </tbody>\n",
       "</table>\n",
       "</div>"
      ],
      "text/plain": [
       "                   dt       id      name  main.temp  population  \\\n",
       "0 2023-07-25 13:45:42  2172517  Canberra       1.83      431611   \n",
       "1 2023-07-25 13:52:35  2147714    Sydney       9.28     5361466   \n",
       "2 2023-07-25 13:56:07  2073124    Darwin      14.99      146982   \n",
       "3 2023-07-25 13:51:20  2174003  Brisbane      12.72     2582007   \n",
       "4 2023-07-25 13:47:57  2078025  Adelaide       9.58     1378413   \n",
       "\n",
       "           unique_id  \n",
       "0  16902927422172517  \n",
       "1  16902931552147714  \n",
       "2  16902933672073124  \n",
       "3  16902930802174003  \n",
       "4  16902928772078025  "
      ]
     },
     "execution_count": 13,
     "metadata": {},
     "output_type": "execute_result"
    }
   ],
   "source": [
    "# convert unix timestamp column to datetime \n",
    "df_selected[\"dt\"] = pd.to_datetime(df_selected[\"dt\"], unit=\"s\")\n",
    "df_selected.head()"
   ]
  },
  {
   "cell_type": "code",
   "execution_count": 14,
   "metadata": {},
   "outputs": [
    {
     "data": {
      "text/html": [
       "<div>\n",
       "<style scoped>\n",
       "    .dataframe tbody tr th:only-of-type {\n",
       "        vertical-align: middle;\n",
       "    }\n",
       "\n",
       "    .dataframe tbody tr th {\n",
       "        vertical-align: top;\n",
       "    }\n",
       "\n",
       "    .dataframe thead th {\n",
       "        text-align: right;\n",
       "    }\n",
       "</style>\n",
       "<table border=\"1\" class=\"dataframe\">\n",
       "  <thead>\n",
       "    <tr style=\"text-align: right;\">\n",
       "      <th></th>\n",
       "      <th>datetime</th>\n",
       "      <th>id</th>\n",
       "      <th>name</th>\n",
       "      <th>temperature</th>\n",
       "      <th>population</th>\n",
       "      <th>unique_id</th>\n",
       "    </tr>\n",
       "  </thead>\n",
       "  <tbody>\n",
       "    <tr>\n",
       "      <th>0</th>\n",
       "      <td>2023-07-25 13:45:42</td>\n",
       "      <td>2172517</td>\n",
       "      <td>Canberra</td>\n",
       "      <td>1.83</td>\n",
       "      <td>431611</td>\n",
       "      <td>16902927422172517</td>\n",
       "    </tr>\n",
       "    <tr>\n",
       "      <th>1</th>\n",
       "      <td>2023-07-25 13:52:35</td>\n",
       "      <td>2147714</td>\n",
       "      <td>Sydney</td>\n",
       "      <td>9.28</td>\n",
       "      <td>5361466</td>\n",
       "      <td>16902931552147714</td>\n",
       "    </tr>\n",
       "    <tr>\n",
       "      <th>2</th>\n",
       "      <td>2023-07-25 13:56:07</td>\n",
       "      <td>2073124</td>\n",
       "      <td>Darwin</td>\n",
       "      <td>14.99</td>\n",
       "      <td>146982</td>\n",
       "      <td>16902933672073124</td>\n",
       "    </tr>\n",
       "    <tr>\n",
       "      <th>3</th>\n",
       "      <td>2023-07-25 13:51:20</td>\n",
       "      <td>2174003</td>\n",
       "      <td>Brisbane</td>\n",
       "      <td>12.72</td>\n",
       "      <td>2582007</td>\n",
       "      <td>16902930802174003</td>\n",
       "    </tr>\n",
       "    <tr>\n",
       "      <th>4</th>\n",
       "      <td>2023-07-25 13:47:57</td>\n",
       "      <td>2078025</td>\n",
       "      <td>Adelaide</td>\n",
       "      <td>9.58</td>\n",
       "      <td>1378413</td>\n",
       "      <td>16902928772078025</td>\n",
       "    </tr>\n",
       "  </tbody>\n",
       "</table>\n",
       "</div>"
      ],
      "text/plain": [
       "             datetime       id      name  temperature  population  \\\n",
       "0 2023-07-25 13:45:42  2172517  Canberra         1.83      431611   \n",
       "1 2023-07-25 13:52:35  2147714    Sydney         9.28     5361466   \n",
       "2 2023-07-25 13:56:07  2073124    Darwin        14.99      146982   \n",
       "3 2023-07-25 13:51:20  2174003  Brisbane        12.72     2582007   \n",
       "4 2023-07-25 13:47:57  2078025  Adelaide         9.58     1378413   \n",
       "\n",
       "           unique_id  \n",
       "0  16902927422172517  \n",
       "1  16902931552147714  \n",
       "2  16902933672073124  \n",
       "3  16902930802174003  \n",
       "4  16902928772078025  "
      ]
     },
     "execution_count": 14,
     "metadata": {},
     "output_type": "execute_result"
    }
   ],
   "source": [
    "# rename colum names to more meaningful names\n",
    "df_selected = df_selected.rename(columns={\n",
    "    \"dt\": \"datetime\",\n",
    "    \"main.temp\": \"temperature\"\n",
    "})\n",
    "df_selected.head()"
   ]
  },
  {
   "cell_type": "code",
   "execution_count": 15,
   "metadata": {},
   "outputs": [],
   "source": [
    "df_selected = df_selected.set_index([\"unique_id\"])"
   ]
  },
  {
   "cell_type": "markdown",
   "metadata": {},
   "source": [
    "### Load data to file (parquet)"
   ]
  },
  {
   "cell_type": "markdown",
   "metadata": {},
   "source": [
    "Overwrite"
   ]
  },
  {
   "cell_type": "code",
   "execution_count": 16,
   "metadata": {},
   "outputs": [],
   "source": [
    "# load (overwrite) data to a csv file \n",
    "df_selected.to_parquet(\"data/weather.parquet\")"
   ]
  },
  {
   "cell_type": "markdown",
   "metadata": {},
   "source": [
    "Append new files"
   ]
  },
  {
   "cell_type": "code",
   "execution_count": 18,
   "metadata": {},
   "outputs": [],
   "source": [
    "import datetime as dt \n",
    "current_timestamp = dt.datetime.now().isoformat().replace(\":\",\"-\")\n",
    "df_selected.to_parquet(f\"data/weather_{current_timestamp}.parquet\")"
   ]
  },
  {
   "cell_type": "markdown",
   "metadata": {},
   "source": [
    "### Load data to SQL "
   ]
  },
  {
   "cell_type": "code",
   "execution_count": 16,
   "metadata": {},
   "outputs": [],
   "source": [
    "from sqlalchemy import create_engine, Table, Column, Integer, String, MetaData, Float # https://www.tutorialspoint.com/sqlalchemy/sqlalchemy_core_creating_table.htm\n",
    "from sqlalchemy.engine import URL\n",
    "from sqlalchemy.dialects import postgresql\n",
    "from secrets_config import db_user, db_password, db_server_name, db_database_name\n",
    "from sqlalchemy.schema import CreateTable "
   ]
  },
  {
   "cell_type": "code",
   "execution_count": 18,
   "metadata": {},
   "outputs": [],
   "source": [
    "# create connection to database \n",
    "connection_url = URL.create(\n",
    "    drivername = \"postgresql+pg8000\", \n",
    "    username = db_user,\n",
    "    password = db_password,\n",
    "    host = db_server_name, \n",
    "    port = 5432,\n",
    "    database = db_database_name, \n",
    ")\n",
    "\n",
    "engine = create_engine(connection_url)\n"
   ]
  },
  {
   "cell_type": "markdown",
   "metadata": {},
   "source": [
    "Append"
   ]
  },
  {
   "cell_type": "code",
   "execution_count": 19,
   "metadata": {},
   "outputs": [
    {
     "data": {
      "text/plain": [
       "8"
      ]
     },
     "execution_count": 19,
     "metadata": {},
     "output_type": "execute_result"
    }
   ],
   "source": [
    "# using pandas \n",
    "df_selected.to_sql(\"weather_ins\", engine, if_exists=\"append\")"
   ]
  },
  {
   "cell_type": "markdown",
   "metadata": {},
   "source": [
    "Overwrite"
   ]
  },
  {
   "cell_type": "code",
   "execution_count": null,
   "metadata": {},
   "outputs": [],
   "source": [
    "# using pandas \n",
    "df_selected.to_sql(\"weather_ins\", engine, if_exists=\"replace\")"
   ]
  },
  {
   "cell_type": "markdown",
   "metadata": {},
   "source": [
    "Upsert"
   ]
  },
  {
   "cell_type": "code",
   "execution_count": 20,
   "metadata": {},
   "outputs": [],
   "source": [
    "meta = MetaData()\n",
    "weather_table = Table(\n",
    "    \"weather\", meta, \n",
    "    Column(\"datetime\", String, primary_key=True),\n",
    "    Column(\"id\", Integer, primary_key=True),\n",
    "    Column(\"name\", String),\n",
    "    Column(\"temperature\", Float),\n",
    "    Column(\"population\", Integer)\n",
    ")\n",
    "meta.create_all(engine) # creates table if it does not exist \n"
   ]
  },
  {
   "cell_type": "code",
   "execution_count": 21,
   "metadata": {},
   "outputs": [
    {
     "data": {
      "text/plain": [
       "<sqlalchemy.engine.cursor.LegacyCursorResult at 0x7fc0177394c0>"
      ]
     },
     "execution_count": 21,
     "metadata": {},
     "output_type": "execute_result"
    }
   ],
   "source": [
    "insert_statement = postgresql.insert(weather_table).values(df_selected.to_dict(orient='records'))\n",
    "upsert_statement = insert_statement.on_conflict_do_update(\n",
    "    index_elements=['id', 'datetime'],\n",
    "    set_={c.key: c for c in insert_statement.excluded if c.key not in ['id', 'datetime']})\n",
    "engine.execute(upsert_statement)"
   ]
  },
  {
   "cell_type": "code",
   "execution_count": null,
   "metadata": {},
   "outputs": [],
   "source": []
  }
 ],
 "metadata": {
  "interpreter": {
   "hash": "ec7476cd5298a73f69e8eecc398cdeac6e308767034e2d84faebe029453106ad"
  },
  "kernelspec": {
   "display_name": "Python 3.9.12 ('dec')",
   "language": "python",
   "name": "python3"
  },
  "language_info": {
   "codemirror_mode": {
    "name": "ipython",
    "version": 3
   },
   "file_extension": ".py",
   "mimetype": "text/x-python",
   "name": "python",
   "nbconvert_exporter": "python",
   "pygments_lexer": "ipython3",
   "version": "3.9.12"
  },
  "orig_nbformat": 4
 },
 "nbformat": 4,
 "nbformat_minor": 2
}
